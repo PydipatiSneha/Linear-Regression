{
  "nbformat": 4,
  "nbformat_minor": 0,
  "metadata": {
    "colab": {
      "name": "Linear Regression.ipynb",
      "provenance": [],
      "authorship_tag": "ABX9TyPIFCBwu52tBV5oHTrktC8M",
      "include_colab_link": true
    },
    "kernelspec": {
      "name": "python3",
      "display_name": "Python 3"
    }
  },
  "cells": [
    {
      "cell_type": "markdown",
      "metadata": {
        "id": "view-in-github",
        "colab_type": "text"
      },
      "source": [
        "<a href=\"https://colab.research.google.com/github/PydipatiSneha/Linear-Regression/blob/main/Linear_Regression.ipynb\" target=\"_parent\"><img src=\"https://colab.research.google.com/assets/colab-badge.svg\" alt=\"Open In Colab\"/></a>"
      ]
    },
    {
      "cell_type": "code",
      "metadata": {
        "id": "zuIPeY4jnPHc"
      },
      "source": [
        "#importing\n",
        "\n",
        "import pandas as pd\n",
        "import matplotlib.pyplot as plt\n",
        "from sklearn import linear_model"
      ],
      "execution_count": null,
      "outputs": []
    },
    {
      "cell_type": "code",
      "metadata": {
        "id": "7X1Hz79DoRbC",
        "colab": {
          "base_uri": "https://localhost:8080/",
          "height": 238
        },
        "outputId": "ad0c04fe-5c9f-4a38-e8b6-7785b75faaf1"
      },
      "source": [
        "data=pd.read_csv('/content/amount.csv')\n",
        "print(data)"
      ],
      "execution_count": null,
      "outputs": [
        {
          "output_type": "stream",
          "text": [
            "    apple  banana  amount\n",
            "0       1       2      30\n",
            "1       3       3      75\n",
            "2       7       5     165\n",
            "3       8       7     195\n",
            "4      12      15     315\n",
            "5      15       9     345\n",
            "6      17       6     370\n",
            "7      19      11     435\n",
            "8      24      17     565\n",
            "9      27      22     650\n",
            "10     31      29     765\n",
            "11     32      34     810\n"
          ],
          "name": "stdout"
        }
      ]
    },
    {
      "cell_type": "code",
      "metadata": {
        "id": "w3ProDhMtJ6V",
        "colab": {
          "base_uri": "https://localhost:8080/",
          "height": 34
        },
        "outputId": "6ed5f511-39f9-48dd-c264-f34be56b0755"
      },
      "source": [
        "data.shape"
      ],
      "execution_count": null,
      "outputs": [
        {
          "output_type": "execute_result",
          "data": {
            "text/plain": [
              "(12, 3)"
            ]
          },
          "metadata": {
            "tags": []
          },
          "execution_count": 17
        }
      ]
    },
    {
      "cell_type": "code",
      "metadata": {
        "id": "gXXkPV1ct2Ft",
        "colab": {
          "base_uri": "https://localhost:8080/",
          "height": 541
        },
        "outputId": "bd736780-dae7-42ba-cd12-12288aa60ce3"
      },
      "source": [
        "data.plot(kind='scatter',x='apple',y='amount')\n",
        "data.plot(kind='scatter',x='banana',y='amount')\n",
        "plt.show()"
      ],
      "execution_count": null,
      "outputs": [
        {
          "output_type": "display_data",
          "data": {
            "image/png": "[encoded data removed]",
            "text/plain": [
              "<Figure size 432x288 with 1 Axes>"
            ]
          },
          "metadata": {
            "tags": [],
            "needs_background": "light"
          }
        },
        {
          "output_type": "display_data",
          "data": {
            "image/png": "[encoded data removed]",
            "text/plain": [
              "<Figure size 432x288 with 1 Axes>"
            ]
          },
          "metadata": {
            "tags": [],
            "needs_background": "light"
          }
        }
      ]
    },
    {
      "cell_type": "code",
      "metadata": {
        "id": "jdpRPf2uu25U",
        "colab": {
          "base_uri": "https://localhost:8080/",
          "height": 459
        },
        "outputId": "f0185368-271b-47f1-f43a-ab97972977aa"
      },
      "source": [
        "xs=data.drop(['amount'],axis=1)  pd.DataFrame(x)\n",
        "y=data['amount']\n",
        "print(xs)\n"
      ],
      "execution_count": null,
      "outputs": [
        {
          "output_type": "stream",
          "text": [
            "    apple  banana\n",
            "0       1       2\n",
            "1       3       3\n",
            "2       7       5\n",
            "3       8       7\n",
            "4      12      15\n",
            "5      15       9\n",
            "6      17       6\n",
            "7      19      11\n",
            "8      24      17\n",
            "9      27      22\n",
            "10     31      29\n",
            "11     32      34\n",
            "0      30\n",
            "1      75\n",
            "2     165\n",
            "3     195\n",
            "4     315\n",
            "5     345\n",
            "6     370\n",
            "7     435\n",
            "8     565\n",
            "9     650\n",
            "10    765\n",
            "11    810\n",
            "Name: amount, dtype: int64\n"
          ],
          "name": "stdout"
        }
      ]
    },
    {
      "cell_type": "code",
      "metadata": {
        "id": "pkpTZp3ywlab",
        "colab": {
          "base_uri": "https://localhost:8080/",
          "height": 34
        },
        "outputId": "31d18e39-8a2d-4c78-a077-a7fd86af3448"
      },
      "source": [
        "model=linear_model.LinearRegression()\n",
        "model.fit(xs,y)"
      ],
      "execution_count": null,
      "outputs": [
        {
          "output_type": "execute_result",
          "data": {
            "text/plain": [
              "LinearRegression(copy_X=True, fit_intercept=True, n_jobs=None, normalize=False)"
            ]
          },
          "metadata": {
            "tags": []
          },
          "execution_count": 22
        }
      ]
    },
    {
      "cell_type": "code",
      "metadata": {
        "id": "xD5MFmqNxhgG",
        "colab": {
          "base_uri": "https://localhost:8080/",
          "height": 34
        },
        "outputId": "ade18ff9-40ae-40df-8fe7-610c9dc9740b"
      },
      "source": [
        "model.coef_"
      ],
      "execution_count": null,
      "outputs": [
        {
          "output_type": "execute_result",
          "data": {
            "text/plain": [
              "array([20.,  5.])"
            ]
          },
          "metadata": {
            "tags": []
          },
          "execution_count": 23
        }
      ]
    },
    {
      "cell_type": "code",
      "metadata": {
        "id": "UNfsnkJzyHAz",
        "colab": {
          "base_uri": "https://localhost:8080/",
          "height": 34
        },
        "outputId": "e573914e-f92d-4b0c-8de5-5eb8dd7923ad"
      },
      "source": [
        "model.intercept_"
      ],
      "execution_count": null,
      "outputs": [
        {
          "output_type": "execute_result",
          "data": {
            "text/plain": [
              "0.0"
            ]
          },
          "metadata": {
            "tags": []
          },
          "execution_count": 24
        }
      ]
    },
    {
      "cell_type": "code",
      "metadata": {
        "id": "Tr_ISqRxyNUI",
        "colab": {
          "base_uri": "https://localhost:8080/",
          "height": 34
        },
        "outputId": "0fbbee2a-2c30-4f3c-bfb1-d4556690b98a"
      },
      "source": [
        "x_new=[[12,4],[3,27],[1,34]]\n",
        "y_pred=model.predict(x_new)\n",
        "print(y_pred)"
      ],
      "execution_count": null,
      "outputs": [
        {
          "output_type": "stream",
          "text": [
            "[260. 195. 190.]\n"
          ],
          "name": "stdout"
        }
      ]
    },
    {
      "cell_type": "code",
      "metadata": {
        "id": "lioXfXdnzQVq",
        "colab": {
          "base_uri": "https://localhost:8080/",
          "height": 265
        },
        "outputId": "3809586a-52a7-4eb0-f459-e6cc64f94795"
      },
      "source": [
        "plt.scatter(xs['apple'],y)\n",
        "plt.plot(xs['apple'],model.predict(xs),color='green')\n",
        "plt.scatter(xs['apple'],model.predict(xs),color='black')\n",
        "plt.show()"
      ],
      "execution_count": null,
      "outputs": [
        {
          "output_type": "display_data",
          "data": {
            "image/png": "[encoded data removed]",
            "text/plain": [
              "<Figure size 432x288 with 1 Axes>"
            ]
          },
          "metadata": {
            "tags": [],
            "needs_background": "light"
          }
        }
      ]
    }
  ]
}